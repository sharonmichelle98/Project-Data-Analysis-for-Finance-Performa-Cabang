{
 "cells": [
  {
   "cell_type": "code",
   "execution_count": 1,
   "metadata": {},
   "outputs": [
    {
     "name": "stdout",
     "output_type": "stream",
     "text": [
      "Rows: 9,754\n",
      "Columns: 5\n",
      "$ loan_id      <int> 1, 2, 3, 4, 5, 6, 7, 8, 9, 10, 11, 12, 13, 14, 15, 16,...\n",
      "$ tanggal_cair <chr> \"2020-01-06\", \"2020-01-06\", \"2020-01-06\", \"2020-01-06\"...\n",
      "$ cabang       <chr> \"AA\", \"AA\", \"AA\", \"AA\", \"AA\", \"AA\", \"AB\", \"AB\", \"AB\", ...\n",
      "$ agen         <chr> \"AA-1\", \"AA-1\", \"AA-1\", \"AA-2\", \"AA-2\", \"AA-2\", \"AB-1\"...\n",
      "$ amount       <int> 320000, 440000, 200000, 430000, 360000, 220000, 320000...\n"
     ]
    },
    {
     "data": {
      "text/html": [
       "<table>\n",
       "<thead><tr><th scope=col>loan_id</th><th scope=col>tanggal_cair</th><th scope=col>cabang</th><th scope=col>agen</th><th scope=col>amount</th></tr></thead>\n",
       "<tbody>\n",
       "\t<tr><td>1         </td><td>2020-01-06</td><td>AA        </td><td>AA-1      </td><td>320000    </td></tr>\n",
       "\t<tr><td>2         </td><td>2020-01-06</td><td>AA        </td><td>AA-1      </td><td>440000    </td></tr>\n",
       "\t<tr><td>3         </td><td>2020-01-06</td><td>AA        </td><td>AA-1      </td><td>200000    </td></tr>\n",
       "\t<tr><td>4         </td><td>2020-01-06</td><td>AA        </td><td>AA-2      </td><td>430000    </td></tr>\n",
       "\t<tr><td>5         </td><td>2020-01-06</td><td>AA        </td><td>AA-2      </td><td>360000    </td></tr>\n",
       "\t<tr><td>6         </td><td>2020-01-06</td><td>AA        </td><td>AA-2      </td><td>220000    </td></tr>\n",
       "</tbody>\n",
       "</table>\n"
      ],
      "text/latex": [
       "\\begin{tabular}{r|lllll}\n",
       " loan\\_id & tanggal\\_cair & cabang & agen & amount\\\\\n",
       "\\hline\n",
       "\t 1          & 2020-01-06 & AA         & AA-1       & 320000    \\\\\n",
       "\t 2          & 2020-01-06 & AA         & AA-1       & 440000    \\\\\n",
       "\t 3          & 2020-01-06 & AA         & AA-1       & 200000    \\\\\n",
       "\t 4          & 2020-01-06 & AA         & AA-2       & 430000    \\\\\n",
       "\t 5          & 2020-01-06 & AA         & AA-2       & 360000    \\\\\n",
       "\t 6          & 2020-01-06 & AA         & AA-2       & 220000    \\\\\n",
       "\\end{tabular}\n"
      ],
      "text/markdown": [
       "\n",
       "| loan_id | tanggal_cair | cabang | agen | amount |\n",
       "|---|---|---|---|---|\n",
       "| 1          | 2020-01-06 | AA         | AA-1       | 320000     |\n",
       "| 2          | 2020-01-06 | AA         | AA-1       | 440000     |\n",
       "| 3          | 2020-01-06 | AA         | AA-1       | 200000     |\n",
       "| 4          | 2020-01-06 | AA         | AA-2       | 430000     |\n",
       "| 5          | 2020-01-06 | AA         | AA-2       | 360000     |\n",
       "| 6          | 2020-01-06 | AA         | AA-2       | 220000     |\n",
       "\n"
      ],
      "text/plain": [
       "  loan_id tanggal_cair cabang agen amount\n",
       "1 1       2020-01-06   AA     AA-1 320000\n",
       "2 2       2020-01-06   AA     AA-1 440000\n",
       "3 3       2020-01-06   AA     AA-1 200000\n",
       "4 4       2020-01-06   AA     AA-2 430000\n",
       "5 5       2020-01-06   AA     AA-2 360000\n",
       "6 6       2020-01-06   AA     AA-2 220000"
      ]
     },
     "metadata": {},
     "output_type": "display_data"
    }
   ],
   "source": [
    "#Sebelum memulai project ini, terlebih dahulu kita baca dulu datasetnya\n",
    "##dengan read.csv()\n",
    "df_loan <- read.csv('loan_disbursement.csv', stringsAsFactors = F)\n",
    "#Kemudian, lihat isi datanya secara sekilas beserta jumlah barisnya dengan glimpse()\n",
    "##dan baca 5 dataset teratasnya jika diperlukan\n",
    "dplyr::glimpse(df_loan)\n",
    "head(df_loan)"
   ]
  },
  {
   "cell_type": "code",
   "execution_count": 21,
   "metadata": {},
   "outputs": [
    {
     "data": {
      "text/html": [
       "<table>\n",
       "<thead><tr><th scope=col>cabang</th><th scope=col>total_amount</th></tr></thead>\n",
       "<tbody>\n",
       "\t<tr><td>AA      </td><td>75710000</td></tr>\n",
       "\t<tr><td>AB      </td><td>81440000</td></tr>\n",
       "\t<tr><td>AC      </td><td>83990000</td></tr>\n",
       "\t<tr><td>AD      </td><td>76080000</td></tr>\n",
       "\t<tr><td>AE      </td><td>54200000</td></tr>\n",
       "\t<tr><td>AF      </td><td>68040000</td></tr>\n",
       "\t<tr><td>AG      </td><td>74080000</td></tr>\n",
       "\t<tr><td>AH      </td><td>73840000</td></tr>\n",
       "\t<tr><td>AI      </td><td>46640000</td></tr>\n",
       "\t<tr><td>AJ      </td><td>43580000</td></tr>\n",
       "\t<tr><td>AK      </td><td>44590000</td></tr>\n",
       "\t<tr><td>AL      </td><td>40650000</td></tr>\n",
       "\t<tr><td>AM      </td><td>44010000</td></tr>\n",
       "\t<tr><td>AN      </td><td>39700000</td></tr>\n",
       "\t<tr><td>AO      </td><td>39120000</td></tr>\n",
       "\t<tr><td>AP      </td><td>44740000</td></tr>\n",
       "\t<tr><td>AQ      </td><td>39190000</td></tr>\n",
       "\t<tr><td>AR      </td><td>44230000</td></tr>\n",
       "\t<tr><td>AS      </td><td>31740000</td></tr>\n",
       "\t<tr><td>AT      </td><td>34840000</td></tr>\n",
       "\t<tr><td>AU      </td><td>35610000</td></tr>\n",
       "\t<tr><td>AV      </td><td>30280000</td></tr>\n",
       "</tbody>\n",
       "</table>\n"
      ],
      "text/latex": [
       "\\begin{tabular}{r|ll}\n",
       " cabang & total\\_amount\\\\\n",
       "\\hline\n",
       "\t AA       & 75710000\\\\\n",
       "\t AB       & 81440000\\\\\n",
       "\t AC       & 83990000\\\\\n",
       "\t AD       & 76080000\\\\\n",
       "\t AE       & 54200000\\\\\n",
       "\t AF       & 68040000\\\\\n",
       "\t AG       & 74080000\\\\\n",
       "\t AH       & 73840000\\\\\n",
       "\t AI       & 46640000\\\\\n",
       "\t AJ       & 43580000\\\\\n",
       "\t AK       & 44590000\\\\\n",
       "\t AL       & 40650000\\\\\n",
       "\t AM       & 44010000\\\\\n",
       "\t AN       & 39700000\\\\\n",
       "\t AO       & 39120000\\\\\n",
       "\t AP       & 44740000\\\\\n",
       "\t AQ       & 39190000\\\\\n",
       "\t AR       & 44230000\\\\\n",
       "\t AS       & 31740000\\\\\n",
       "\t AT       & 34840000\\\\\n",
       "\t AU       & 35610000\\\\\n",
       "\t AV       & 30280000\\\\\n",
       "\\end{tabular}\n"
      ],
      "text/markdown": [
       "\n",
       "| cabang | total_amount |\n",
       "|---|---|\n",
       "| AA       | 75710000 |\n",
       "| AB       | 81440000 |\n",
       "| AC       | 83990000 |\n",
       "| AD       | 76080000 |\n",
       "| AE       | 54200000 |\n",
       "| AF       | 68040000 |\n",
       "| AG       | 74080000 |\n",
       "| AH       | 73840000 |\n",
       "| AI       | 46640000 |\n",
       "| AJ       | 43580000 |\n",
       "| AK       | 44590000 |\n",
       "| AL       | 40650000 |\n",
       "| AM       | 44010000 |\n",
       "| AN       | 39700000 |\n",
       "| AO       | 39120000 |\n",
       "| AP       | 44740000 |\n",
       "| AQ       | 39190000 |\n",
       "| AR       | 44230000 |\n",
       "| AS       | 31740000 |\n",
       "| AT       | 34840000 |\n",
       "| AU       | 35610000 |\n",
       "| AV       | 30280000 |\n",
       "\n"
      ],
      "text/plain": [
       "   cabang total_amount\n",
       "1  AA     75710000    \n",
       "2  AB     81440000    \n",
       "3  AC     83990000    \n",
       "4  AD     76080000    \n",
       "5  AE     54200000    \n",
       "6  AF     68040000    \n",
       "7  AG     74080000    \n",
       "8  AH     73840000    \n",
       "9  AI     46640000    \n",
       "10 AJ     43580000    \n",
       "11 AK     44590000    \n",
       "12 AL     40650000    \n",
       "13 AM     44010000    \n",
       "14 AN     39700000    \n",
       "15 AO     39120000    \n",
       "16 AP     44740000    \n",
       "17 AQ     39190000    \n",
       "18 AR     44230000    \n",
       "19 AS     31740000    \n",
       "20 AT     34840000    \n",
       "21 AU     35610000    \n",
       "22 AV     30280000    "
      ]
     },
     "metadata": {},
     "output_type": "display_data"
    }
   ],
   "source": [
    "#Selanjutnya, kita filter datanya hanya untuk yang bulan Mei saja\n",
    "##sebelumnya, load dulu library dplyr nya yah :)\n",
    "library(dplyr)\n",
    "df_loan_mei <- df_loan %>% filter(tanggal_cair >= '2020-05-01', tanggal_cair <= '2020-05-31')%>%group_by(cabang) %>%\n",
    "summarise(total_amount = sum(amount))\n",
    "df_loan_mei"
   ]
  },
  {
   "cell_type": "code",
   "execution_count": 20,
   "metadata": {},
   "outputs": [
    {
     "data": {
      "text/html": [
       "<table>\n",
       "<thead><tr><th scope=col>cabang</th><th scope=col>total_amount</th></tr></thead>\n",
       "<tbody>\n",
       "\t<tr><td>AC        </td><td>83,990,000</td></tr>\n",
       "\t<tr><td>AB        </td><td>81,440,000</td></tr>\n",
       "\t<tr><td>AD        </td><td>76,080,000</td></tr>\n",
       "\t<tr><td>AA        </td><td>75,710,000</td></tr>\n",
       "\t<tr><td>AG        </td><td>74,080,000</td></tr>\n",
       "</tbody>\n",
       "</table>\n"
      ],
      "text/latex": [
       "\\begin{tabular}{r|ll}\n",
       " cabang & total\\_amount\\\\\n",
       "\\hline\n",
       "\t AC         & 83,990,000\\\\\n",
       "\t AB         & 81,440,000\\\\\n",
       "\t AD         & 76,080,000\\\\\n",
       "\t AA         & 75,710,000\\\\\n",
       "\t AG         & 74,080,000\\\\\n",
       "\\end{tabular}\n"
      ],
      "text/markdown": [
       "\n",
       "| cabang | total_amount |\n",
       "|---|---|\n",
       "| AC         | 83,990,000 |\n",
       "| AB         | 81,440,000 |\n",
       "| AD         | 76,080,000 |\n",
       "| AA         | 75,710,000 |\n",
       "| AG         | 74,080,000 |\n",
       "\n"
      ],
      "text/plain": [
       "  cabang total_amount\n",
       "1 AC     83,990,000  \n",
       "2 AB     81,440,000  \n",
       "3 AD     76,080,000  \n",
       "4 AA     75,710,000  \n",
       "5 AG     74,080,000  "
      ]
     },
     "metadata": {},
     "output_type": "display_data"
    }
   ],
   "source": [
    "#Selanjutnya, kita akan coba tampilkan 5 cabang terbesar dari df_loan_mei\n",
    "##sebelumnya, import dulu library scales nya supaya lebih mudah nantinya :)\n",
    "library(scales)\n",
    "df_loan_mei %>% arrange(desc(total_amount)) %>% mutate(total_amount = comma(total_amount)) %>% head(5)"
   ]
  },
  {
   "cell_type": "code",
   "execution_count": 19,
   "metadata": {},
   "outputs": [
    {
     "data": {
      "text/html": [
       "<table>\n",
       "<thead><tr><th scope=col>cabang</th><th scope=col>total_amount</th></tr></thead>\n",
       "<tbody>\n",
       "\t<tr><td>AV        </td><td>30,280,000</td></tr>\n",
       "\t<tr><td>AS        </td><td>31,740,000</td></tr>\n",
       "\t<tr><td>AT        </td><td>34,840,000</td></tr>\n",
       "\t<tr><td>AU        </td><td>35,610,000</td></tr>\n",
       "\t<tr><td>AO        </td><td>39,120,000</td></tr>\n",
       "</tbody>\n",
       "</table>\n"
      ],
      "text/latex": [
       "\\begin{tabular}{r|ll}\n",
       " cabang & total\\_amount\\\\\n",
       "\\hline\n",
       "\t AV         & 30,280,000\\\\\n",
       "\t AS         & 31,740,000\\\\\n",
       "\t AT         & 34,840,000\\\\\n",
       "\t AU         & 35,610,000\\\\\n",
       "\t AO         & 39,120,000\\\\\n",
       "\\end{tabular}\n"
      ],
      "text/markdown": [
       "\n",
       "| cabang | total_amount |\n",
       "|---|---|\n",
       "| AV         | 30,280,000 |\n",
       "| AS         | 31,740,000 |\n",
       "| AT         | 34,840,000 |\n",
       "| AU         | 35,610,000 |\n",
       "| AO         | 39,120,000 |\n",
       "\n"
      ],
      "text/plain": [
       "  cabang total_amount\n",
       "1 AV     30,280,000  \n",
       "2 AS     31,740,000  \n",
       "3 AT     34,840,000  \n",
       "4 AU     35,610,000  \n",
       "5 AO     39,120,000  "
      ]
     },
     "metadata": {},
     "output_type": "display_data"
    }
   ],
   "source": [
    "#Setelah menampilkan top 5 nya\n",
    "##Sekarang gilirannya untuk menampilkan top bottom dari df_loan_mei\n",
    "df_loan_mei %>% arrange(total_amount) %>% mutate(total_amount = comma(total_amount)) %>% head(5)"
   ]
  },
  {
   "cell_type": "code",
   "execution_count": 18,
   "metadata": {},
   "outputs": [
    {
     "data": {
      "text/html": [
       "<table>\n",
       "<thead><tr><th scope=col>cabang</th><th scope=col>pertama_cair</th><th scope=col>umur</th></tr></thead>\n",
       "<tbody>\n",
       "\t<tr><td>AA        </td><td>2020-01-06</td><td>4         </td></tr>\n",
       "\t<tr><td>AB        </td><td>2020-01-06</td><td>4         </td></tr>\n",
       "\t<tr><td>AC        </td><td>2020-01-06</td><td>4         </td></tr>\n",
       "\t<tr><td>AD        </td><td>2020-01-06</td><td>4         </td></tr>\n",
       "\t<tr><td>AE        </td><td>2020-02-03</td><td>3         </td></tr>\n",
       "\t<tr><td>AF        </td><td>2020-02-03</td><td>3         </td></tr>\n",
       "\t<tr><td>AG        </td><td>2020-02-03</td><td>3         </td></tr>\n",
       "\t<tr><td>AH        </td><td>2020-02-03</td><td>3         </td></tr>\n",
       "\t<tr><td>AI        </td><td>2020-03-02</td><td>2         </td></tr>\n",
       "\t<tr><td>AJ        </td><td>2020-03-02</td><td>2         </td></tr>\n",
       "\t<tr><td>AK        </td><td>2020-03-02</td><td>2         </td></tr>\n",
       "\t<tr><td>AL        </td><td>2020-03-02</td><td>2         </td></tr>\n",
       "\t<tr><td>AM        </td><td>2020-03-02</td><td>2         </td></tr>\n",
       "\t<tr><td>AN        </td><td>2020-04-06</td><td>1         </td></tr>\n",
       "\t<tr><td>AO        </td><td>2020-04-06</td><td>1         </td></tr>\n",
       "\t<tr><td>AP        </td><td>2020-04-06</td><td>1         </td></tr>\n",
       "\t<tr><td>AQ        </td><td>2020-04-06</td><td>1         </td></tr>\n",
       "\t<tr><td>AR        </td><td>2020-04-06</td><td>1         </td></tr>\n",
       "\t<tr><td>AS        </td><td>2020-05-04</td><td>0         </td></tr>\n",
       "\t<tr><td>AT        </td><td>2020-05-04</td><td>0         </td></tr>\n",
       "\t<tr><td>AU        </td><td>2020-05-04</td><td>0         </td></tr>\n",
       "\t<tr><td>AV        </td><td>2020-05-04</td><td>0         </td></tr>\n",
       "</tbody>\n",
       "</table>\n"
      ],
      "text/latex": [
       "\\begin{tabular}{r|lll}\n",
       " cabang & pertama\\_cair & umur\\\\\n",
       "\\hline\n",
       "\t AA         & 2020-01-06 & 4         \\\\\n",
       "\t AB         & 2020-01-06 & 4         \\\\\n",
       "\t AC         & 2020-01-06 & 4         \\\\\n",
       "\t AD         & 2020-01-06 & 4         \\\\\n",
       "\t AE         & 2020-02-03 & 3         \\\\\n",
       "\t AF         & 2020-02-03 & 3         \\\\\n",
       "\t AG         & 2020-02-03 & 3         \\\\\n",
       "\t AH         & 2020-02-03 & 3         \\\\\n",
       "\t AI         & 2020-03-02 & 2         \\\\\n",
       "\t AJ         & 2020-03-02 & 2         \\\\\n",
       "\t AK         & 2020-03-02 & 2         \\\\\n",
       "\t AL         & 2020-03-02 & 2         \\\\\n",
       "\t AM         & 2020-03-02 & 2         \\\\\n",
       "\t AN         & 2020-04-06 & 1         \\\\\n",
       "\t AO         & 2020-04-06 & 1         \\\\\n",
       "\t AP         & 2020-04-06 & 1         \\\\\n",
       "\t AQ         & 2020-04-06 & 1         \\\\\n",
       "\t AR         & 2020-04-06 & 1         \\\\\n",
       "\t AS         & 2020-05-04 & 0         \\\\\n",
       "\t AT         & 2020-05-04 & 0         \\\\\n",
       "\t AU         & 2020-05-04 & 0         \\\\\n",
       "\t AV         & 2020-05-04 & 0         \\\\\n",
       "\\end{tabular}\n"
      ],
      "text/markdown": [
       "\n",
       "| cabang | pertama_cair | umur |\n",
       "|---|---|---|\n",
       "| AA         | 2020-01-06 | 4          |\n",
       "| AB         | 2020-01-06 | 4          |\n",
       "| AC         | 2020-01-06 | 4          |\n",
       "| AD         | 2020-01-06 | 4          |\n",
       "| AE         | 2020-02-03 | 3          |\n",
       "| AF         | 2020-02-03 | 3          |\n",
       "| AG         | 2020-02-03 | 3          |\n",
       "| AH         | 2020-02-03 | 3          |\n",
       "| AI         | 2020-03-02 | 2          |\n",
       "| AJ         | 2020-03-02 | 2          |\n",
       "| AK         | 2020-03-02 | 2          |\n",
       "| AL         | 2020-03-02 | 2          |\n",
       "| AM         | 2020-03-02 | 2          |\n",
       "| AN         | 2020-04-06 | 1          |\n",
       "| AO         | 2020-04-06 | 1          |\n",
       "| AP         | 2020-04-06 | 1          |\n",
       "| AQ         | 2020-04-06 | 1          |\n",
       "| AR         | 2020-04-06 | 1          |\n",
       "| AS         | 2020-05-04 | 0          |\n",
       "| AT         | 2020-05-04 | 0          |\n",
       "| AU         | 2020-05-04 | 0          |\n",
       "| AV         | 2020-05-04 | 0          |\n",
       "\n"
      ],
      "text/plain": [
       "   cabang pertama_cair umur\n",
       "1  AA     2020-01-06   4   \n",
       "2  AB     2020-01-06   4   \n",
       "3  AC     2020-01-06   4   \n",
       "4  AD     2020-01-06   4   \n",
       "5  AE     2020-02-03   3   \n",
       "6  AF     2020-02-03   3   \n",
       "7  AG     2020-02-03   3   \n",
       "8  AH     2020-02-03   3   \n",
       "9  AI     2020-03-02   2   \n",
       "10 AJ     2020-03-02   2   \n",
       "11 AK     2020-03-02   2   \n",
       "12 AL     2020-03-02   2   \n",
       "13 AM     2020-03-02   2   \n",
       "14 AN     2020-04-06   1   \n",
       "15 AO     2020-04-06   1   \n",
       "16 AP     2020-04-06   1   \n",
       "17 AQ     2020-04-06   1   \n",
       "18 AR     2020-04-06   1   \n",
       "19 AS     2020-05-04   0   \n",
       "20 AT     2020-05-04   0   \n",
       "21 AU     2020-05-04   0   \n",
       "22 AV     2020-05-04   0   "
      ]
     },
     "metadata": {},
     "output_type": "display_data"
    }
   ],
   "source": [
    "#Karena di data tidak tersedia data untuk umur cabangnya,\n",
    "##maka sekarang saatnya untuk menghitung umur cabang\n",
    "##dengan cara menghitung berapa lama sejak tanggal cair pertama hingga bulan Mei\n",
    "##sebelumnya, cari dulu tanggal pertama cairnya, lalu asumsikan tanggal batas cairnya adalah tengah bulan\n",
    "df_cabang_umur <- df_loan %>% group_by(cabang) %>% summarise(pertama_cair = min(tanggal_cair)) %>% mutate(umur = as.numeric(\n",
    "as.Date('2020-05-15') - as.Date(pertama_cair)) %/% 30)\n",
    "df_cabang_umur"
   ]
  },
  {
   "cell_type": "code",
   "execution_count": 17,
   "metadata": {},
   "outputs": [
    {
     "data": {
      "text/html": [
       "<table>\n",
       "<thead><tr><th scope=col>cabang</th><th scope=col>pertama_cair</th><th scope=col>umur</th><th scope=col>total_amount</th></tr></thead>\n",
       "<tbody>\n",
       "\t<tr><td>AA        </td><td>2020-01-06</td><td>4         </td><td>75710000  </td></tr>\n",
       "\t<tr><td>AB        </td><td>2020-01-06</td><td>4         </td><td>81440000  </td></tr>\n",
       "\t<tr><td>AC        </td><td>2020-01-06</td><td>4         </td><td>83990000  </td></tr>\n",
       "\t<tr><td>AD        </td><td>2020-01-06</td><td>4         </td><td>76080000  </td></tr>\n",
       "\t<tr><td>AE        </td><td>2020-02-03</td><td>3         </td><td>54200000  </td></tr>\n",
       "\t<tr><td>AF        </td><td>2020-02-03</td><td>3         </td><td>68040000  </td></tr>\n",
       "\t<tr><td>AG        </td><td>2020-02-03</td><td>3         </td><td>74080000  </td></tr>\n",
       "\t<tr><td>AH        </td><td>2020-02-03</td><td>3         </td><td>73840000  </td></tr>\n",
       "\t<tr><td>AI        </td><td>2020-03-02</td><td>2         </td><td>46640000  </td></tr>\n",
       "\t<tr><td>AJ        </td><td>2020-03-02</td><td>2         </td><td>43580000  </td></tr>\n",
       "\t<tr><td>AK        </td><td>2020-03-02</td><td>2         </td><td>44590000  </td></tr>\n",
       "\t<tr><td>AL        </td><td>2020-03-02</td><td>2         </td><td>40650000  </td></tr>\n",
       "\t<tr><td>AM        </td><td>2020-03-02</td><td>2         </td><td>44010000  </td></tr>\n",
       "\t<tr><td>AN        </td><td>2020-04-06</td><td>1         </td><td>39700000  </td></tr>\n",
       "\t<tr><td>AO        </td><td>2020-04-06</td><td>1         </td><td>39120000  </td></tr>\n",
       "\t<tr><td>AP        </td><td>2020-04-06</td><td>1         </td><td>44740000  </td></tr>\n",
       "\t<tr><td>AQ        </td><td>2020-04-06</td><td>1         </td><td>39190000  </td></tr>\n",
       "\t<tr><td>AR        </td><td>2020-04-06</td><td>1         </td><td>44230000  </td></tr>\n",
       "\t<tr><td>AS        </td><td>2020-05-04</td><td>0         </td><td>31740000  </td></tr>\n",
       "\t<tr><td>AT        </td><td>2020-05-04</td><td>0         </td><td>34840000  </td></tr>\n",
       "\t<tr><td>AU        </td><td>2020-05-04</td><td>0         </td><td>35610000  </td></tr>\n",
       "\t<tr><td>AV        </td><td>2020-05-04</td><td>0         </td><td>30280000  </td></tr>\n",
       "</tbody>\n",
       "</table>\n"
      ],
      "text/latex": [
       "\\begin{tabular}{r|llll}\n",
       " cabang & pertama\\_cair & umur & total\\_amount\\\\\n",
       "\\hline\n",
       "\t AA         & 2020-01-06 & 4          & 75710000  \\\\\n",
       "\t AB         & 2020-01-06 & 4          & 81440000  \\\\\n",
       "\t AC         & 2020-01-06 & 4          & 83990000  \\\\\n",
       "\t AD         & 2020-01-06 & 4          & 76080000  \\\\\n",
       "\t AE         & 2020-02-03 & 3          & 54200000  \\\\\n",
       "\t AF         & 2020-02-03 & 3          & 68040000  \\\\\n",
       "\t AG         & 2020-02-03 & 3          & 74080000  \\\\\n",
       "\t AH         & 2020-02-03 & 3          & 73840000  \\\\\n",
       "\t AI         & 2020-03-02 & 2          & 46640000  \\\\\n",
       "\t AJ         & 2020-03-02 & 2          & 43580000  \\\\\n",
       "\t AK         & 2020-03-02 & 2          & 44590000  \\\\\n",
       "\t AL         & 2020-03-02 & 2          & 40650000  \\\\\n",
       "\t AM         & 2020-03-02 & 2          & 44010000  \\\\\n",
       "\t AN         & 2020-04-06 & 1          & 39700000  \\\\\n",
       "\t AO         & 2020-04-06 & 1          & 39120000  \\\\\n",
       "\t AP         & 2020-04-06 & 1          & 44740000  \\\\\n",
       "\t AQ         & 2020-04-06 & 1          & 39190000  \\\\\n",
       "\t AR         & 2020-04-06 & 1          & 44230000  \\\\\n",
       "\t AS         & 2020-05-04 & 0          & 31740000  \\\\\n",
       "\t AT         & 2020-05-04 & 0          & 34840000  \\\\\n",
       "\t AU         & 2020-05-04 & 0          & 35610000  \\\\\n",
       "\t AV         & 2020-05-04 & 0          & 30280000  \\\\\n",
       "\\end{tabular}\n"
      ],
      "text/markdown": [
       "\n",
       "| cabang | pertama_cair | umur | total_amount |\n",
       "|---|---|---|---|\n",
       "| AA         | 2020-01-06 | 4          | 75710000   |\n",
       "| AB         | 2020-01-06 | 4          | 81440000   |\n",
       "| AC         | 2020-01-06 | 4          | 83990000   |\n",
       "| AD         | 2020-01-06 | 4          | 76080000   |\n",
       "| AE         | 2020-02-03 | 3          | 54200000   |\n",
       "| AF         | 2020-02-03 | 3          | 68040000   |\n",
       "| AG         | 2020-02-03 | 3          | 74080000   |\n",
       "| AH         | 2020-02-03 | 3          | 73840000   |\n",
       "| AI         | 2020-03-02 | 2          | 46640000   |\n",
       "| AJ         | 2020-03-02 | 2          | 43580000   |\n",
       "| AK         | 2020-03-02 | 2          | 44590000   |\n",
       "| AL         | 2020-03-02 | 2          | 40650000   |\n",
       "| AM         | 2020-03-02 | 2          | 44010000   |\n",
       "| AN         | 2020-04-06 | 1          | 39700000   |\n",
       "| AO         | 2020-04-06 | 1          | 39120000   |\n",
       "| AP         | 2020-04-06 | 1          | 44740000   |\n",
       "| AQ         | 2020-04-06 | 1          | 39190000   |\n",
       "| AR         | 2020-04-06 | 1          | 44230000   |\n",
       "| AS         | 2020-05-04 | 0          | 31740000   |\n",
       "| AT         | 2020-05-04 | 0          | 34840000   |\n",
       "| AU         | 2020-05-04 | 0          | 35610000   |\n",
       "| AV         | 2020-05-04 | 0          | 30280000   |\n",
       "\n"
      ],
      "text/plain": [
       "   cabang pertama_cair umur total_amount\n",
       "1  AA     2020-01-06   4    75710000    \n",
       "2  AB     2020-01-06   4    81440000    \n",
       "3  AC     2020-01-06   4    83990000    \n",
       "4  AD     2020-01-06   4    76080000    \n",
       "5  AE     2020-02-03   3    54200000    \n",
       "6  AF     2020-02-03   3    68040000    \n",
       "7  AG     2020-02-03   3    74080000    \n",
       "8  AH     2020-02-03   3    73840000    \n",
       "9  AI     2020-03-02   2    46640000    \n",
       "10 AJ     2020-03-02   2    43580000    \n",
       "11 AK     2020-03-02   2    44590000    \n",
       "12 AL     2020-03-02   2    40650000    \n",
       "13 AM     2020-03-02   2    44010000    \n",
       "14 AN     2020-04-06   1    39700000    \n",
       "15 AO     2020-04-06   1    39120000    \n",
       "16 AP     2020-04-06   1    44740000    \n",
       "17 AQ     2020-04-06   1    39190000    \n",
       "18 AR     2020-04-06   1    44230000    \n",
       "19 AS     2020-05-04   0    31740000    \n",
       "20 AT     2020-05-04   0    34840000    \n",
       "21 AU     2020-05-04   0    35610000    \n",
       "22 AV     2020-05-04   0    30280000    "
      ]
     },
     "metadata": {},
     "output_type": "display_data"
    }
   ],
   "source": [
    "#Supaya bisa membandingkan antara umur cabang dengan total amount nya,\n",
    "##kita akn menggabungkan df_cabang_umur dan df_loan_mei\n",
    "df_loan_mei_umur <- df_cabang_umur %>% inner_join(df_loan_mei, by = 'cabang')\n",
    "df_loan_mei_umur"
   ]
  },
  {
   "cell_type": "code",
   "execution_count": 7,
   "metadata": {},
   "outputs": [
    {
     "name": "stderr",
     "output_type": "stream",
     "text": [
      "Warning message:\n",
      "\"package 'ggplot2' was built under R version 3.6.3\""
     ]
    },
    {
     "data": {
      "image/png": "[encoded data removed]",
      "text/plain": [
       "plot without title"
      ]
     },
     "metadata": {},
     "output_type": "display_data"
    }
   ],
   "source": [
    "#Supaya lebih enak menganalisanya,\n",
    "##kita akan buat plot relasi antara umur dan performa khusus untuk bulan Mei saja\n",
    "##sebelumnya, jangan lupa untuk panggil library ggplot2 nya\n",
    "library(ggplot2)\n",
    "ggplot(df_loan_mei_umur, aes(x = umur, y = total_amount)) + geom_point() + scale_y_continuous(labels = scales::comma) +\n",
    "labs(title = \"Semakin berumur, performa cabangnya akan semakin baik\",\n",
    "    x = \"Umur (bulan)\",\n",
    "    y = \"Total Amount\")"
   ]
  },
  {
   "cell_type": "code",
   "execution_count": 16,
   "metadata": {},
   "outputs": [
    {
     "name": "stderr",
     "output_type": "stream",
     "text": [
      "`mutate_if()` ignored the following grouping variables:\n",
      "Column `umur`\n"
     ]
    },
    {
     "data": {
      "text/html": [
       "<table>\n",
       "<thead><tr><th scope=col>cabang</th><th scope=col>pertama_cair</th><th scope=col>umur</th><th scope=col>total_amount</th><th scope=col>Q1</th><th scope=col>Q3</th><th scope=col>IQR</th><th scope=col>flag</th></tr></thead>\n",
       "<tbody>\n",
       "\t<tr><td>AE        </td><td>2020-02-03</td><td>3         </td><td>54,200,000</td><td>64,580,000</td><td>73,900,000</td><td>9,320,000 </td><td>rendah    </td></tr>\n",
       "\t<tr><td>AL        </td><td>2020-03-02</td><td>2         </td><td>40,650,000</td><td>43,580,000</td><td>44,590,000</td><td>1,010,000 </td><td>rendah    </td></tr>\n",
       "</tbody>\n",
       "</table>\n"
      ],
      "text/latex": [
       "\\begin{tabular}{r|llllllll}\n",
       " cabang & pertama\\_cair & umur & total\\_amount & Q1 & Q3 & IQR & flag\\\\\n",
       "\\hline\n",
       "\t AE         & 2020-02-03 & 3          & 54,200,000 & 64,580,000 & 73,900,000 & 9,320,000  & rendah    \\\\\n",
       "\t AL         & 2020-03-02 & 2          & 40,650,000 & 43,580,000 & 44,590,000 & 1,010,000  & rendah    \\\\\n",
       "\\end{tabular}\n"
      ],
      "text/markdown": [
       "\n",
       "| cabang | pertama_cair | umur | total_amount | Q1 | Q3 | IQR | flag |\n",
       "|---|---|---|---|---|---|---|---|\n",
       "| AE         | 2020-02-03 | 3          | 54,200,000 | 64,580,000 | 73,900,000 | 9,320,000  | rendah     |\n",
       "| AL         | 2020-03-02 | 2          | 40,650,000 | 43,580,000 | 44,590,000 | 1,010,000  | rendah     |\n",
       "\n"
      ],
      "text/plain": [
       "  cabang pertama_cair umur total_amount Q1         Q3         IQR       flag  \n",
       "1 AE     2020-02-03   3    54,200,000   64,580,000 73,900,000 9,320,000 rendah\n",
       "2 AL     2020-03-02   2    40,650,000   43,580,000 44,590,000 1,010,000 rendah"
      ]
     },
     "metadata": {},
     "output_type": "display_data"
    }
   ],
   "source": [
    "#Kemudian, kita akan mencoba mencari cabang dengan performa rendah untuk setiap umur\n",
    "##diasumsikan, performa suatu cabang rendah jika performanya kurang dari (QI - IQR)\n",
    "df_loan_mei_flag <- df_loan_mei_umur %>% group_by(umur) %>% mutate(Q1 = quantile(total_amount, 0.25),\n",
    "                                                               Q3 = quantile(total_amount, 0.75),\n",
    "                                                              IQR = Q3 - Q1) %>% mutate(flag =\n",
    "                                                                                     ifelse(total_amount < (Q1 - IQR),\n",
    "                                                                                           'rendah', 'baik'))\n",
    "df_loan_mei_flag %>% filter(flag=='rendah') %>% mutate_if(is.numeric, funs(comma))"
   ]
  },
  {
   "cell_type": "code",
   "execution_count": 9,
   "metadata": {},
   "outputs": [
    {
     "data": {
      "image/png": "[encoded data removed]",
      "text/plain": [
       "plot without title"
      ]
     },
     "metadata": {},
     "output_type": "display_data"
    }
   ],
   "source": [
    "#Setelah ketemu, kembali lagi ke scatterplot yang tadi, lalu buat lagi\n",
    "##dengan menandai cabang yang rendah tadi dengan warna merah\n",
    "library(ggplot2)\n",
    "ggplot(df_loan_mei_flag, aes(x = umur, y = total_amount)) + geom_point(aes(color = flag)) +\n",
    "scale_color_manual(breaks = c(\"baik\", \"rendah\"),\n",
    "                  values = c(\"blue\", \"red\")) +\n",
    "scale_y_continuous(labels = scales::comma) +\n",
    "labs(title = \"Ada cabang berperforma rendah, padahal tidak termasuk 5 bottom nasional\",\n",
    "    color = \"\",\n",
    "    x = \"Umur (bulan)\",\n",
    "    y = \"Total Amount\")"
   ]
  },
  {
   "cell_type": "code",
   "execution_count": 15,
   "metadata": {},
   "outputs": [
    {
     "name": "stderr",
     "output_type": "stream",
     "text": [
      "`summarise()` has grouped output by 'cabang'. You can override using the `.groups` argument.\n",
      "`mutate_if()` ignored the following grouping variables:\n",
      "Column `cabang`\n"
     ]
    },
    {
     "data": {
      "text/html": [
       "<table>\n",
       "<thead><tr><th scope=col>cabang</th><th scope=col>flag</th><th scope=col>jumlah_hari</th><th scope=col>agen_aktif</th><th scope=col>total_loan_cair</th><th scope=col>avg_amount</th><th scope=col>total_amount</th></tr></thead>\n",
       "<tbody>\n",
       "\t<tr><td>AE        </td><td>rendah    </td><td>21        </td><td>3         </td><td>175       </td><td>309,714   </td><td>54,200,000</td></tr>\n",
       "\t<tr><td>AF        </td><td>baik      </td><td>21        </td><td>3         </td><td>225       </td><td>302,400   </td><td>68,040,000</td></tr>\n",
       "\t<tr><td>AH        </td><td>baik      </td><td>21        </td><td>3         </td><td>241       </td><td>306,390   </td><td>73,840,000</td></tr>\n",
       "\t<tr><td>AG        </td><td>baik      </td><td>21        </td><td>3         </td><td>241       </td><td>307,386   </td><td>74,080,000</td></tr>\n",
       "</tbody>\n",
       "</table>\n"
      ],
      "text/latex": [
       "\\begin{tabular}{r|lllllll}\n",
       " cabang & flag & jumlah\\_hari & agen\\_aktif & total\\_loan\\_cair & avg\\_amount & total\\_amount\\\\\n",
       "\\hline\n",
       "\t AE         & rendah     & 21         & 3          & 175        & 309,714    & 54,200,000\\\\\n",
       "\t AF         & baik       & 21         & 3          & 225        & 302,400    & 68,040,000\\\\\n",
       "\t AH         & baik       & 21         & 3          & 241        & 306,390    & 73,840,000\\\\\n",
       "\t AG         & baik       & 21         & 3          & 241        & 307,386    & 74,080,000\\\\\n",
       "\\end{tabular}\n"
      ],
      "text/markdown": [
       "\n",
       "| cabang | flag | jumlah_hari | agen_aktif | total_loan_cair | avg_amount | total_amount |\n",
       "|---|---|---|---|---|---|---|\n",
       "| AE         | rendah     | 21         | 3          | 175        | 309,714    | 54,200,000 |\n",
       "| AF         | baik       | 21         | 3          | 225        | 302,400    | 68,040,000 |\n",
       "| AH         | baik       | 21         | 3          | 241        | 306,390    | 73,840,000 |\n",
       "| AG         | baik       | 21         | 3          | 241        | 307,386    | 74,080,000 |\n",
       "\n"
      ],
      "text/plain": [
       "  cabang flag   jumlah_hari agen_aktif total_loan_cair avg_amount total_amount\n",
       "1 AE     rendah 21          3          175             309,714    54,200,000  \n",
       "2 AF     baik   21          3          225             302,400    68,040,000  \n",
       "3 AH     baik   21          3          241             306,390    73,840,000  \n",
       "4 AG     baik   21          3          241             307,386    74,080,000  "
      ]
     },
     "metadata": {},
     "output_type": "display_data"
    }
   ],
   "source": [
    "#Kita akan mencoba menganalisa kenapa cabang-cabang tersebut performanya rendah di bulan Mei\n",
    "##cabang yang kita analisis hanya yang berumur 3 bulan saja\n",
    "df_loan_mei_flag %>%\n",
    "filter(umur == 3) %>%\n",
    "inner_join(df_loan, by = 'cabang') %>%\n",
    "filter(tanggal_cair >= '2020-05-01', tanggal_cair <= '2020-05-31') %>%\n",
    "group_by(cabang, flag) %>%\n",
    "summarise(jumlah_hari = n_distinct(tanggal_cair),\n",
    "         agen_aktif = n_distinct(agen),\n",
    "         total_loan_cair = n_distinct(loan_id),\n",
    "         avg_amount = mean(amount),\n",
    "         total_amount = sum(amount)) %>%\n",
    "arrange(total_amount) %>%\n",
    "mutate_if(is.numeric, funs(comma))"
   ]
  },
  {
   "cell_type": "code",
   "execution_count": 14,
   "metadata": {},
   "outputs": [
    {
     "name": "stderr",
     "output_type": "stream",
     "text": [
      "`summarise()` has grouped output by 'cabang'. You can override using the `.groups` argument.\n",
      "`mutate_if()` ignored the following grouping variables:\n",
      "Column `cabang`\n"
     ]
    },
    {
     "data": {
      "text/html": [
       "<table>\n",
       "<thead><tr><th scope=col>cabang</th><th scope=col>agen</th><th scope=col>jumlah_hari</th><th scope=col>total_loan_cair</th><th scope=col>avg_amount</th><th scope=col>total_amount</th></tr></thead>\n",
       "<tbody>\n",
       "\t<tr><td>AE        </td><td>AE-3      </td><td>4.0       </td><td>16        </td><td>310,625   </td><td>4,970,000 </td></tr>\n",
       "\t<tr><td>AE        </td><td>AE-2      </td><td>18.0      </td><td>73        </td><td>320,274   </td><td>23,380,000</td></tr>\n",
       "\t<tr><td>AE        </td><td>AE-1      </td><td>21.0      </td><td>86        </td><td>300,581   </td><td>25,850,000</td></tr>\n",
       "</tbody>\n",
       "</table>\n"
      ],
      "text/latex": [
       "\\begin{tabular}{r|llllll}\n",
       " cabang & agen & jumlah\\_hari & total\\_loan\\_cair & avg\\_amount & total\\_amount\\\\\n",
       "\\hline\n",
       "\t AE         & AE-3       & 4.0        & 16         & 310,625    & 4,970,000 \\\\\n",
       "\t AE         & AE-2       & 18.0       & 73         & 320,274    & 23,380,000\\\\\n",
       "\t AE         & AE-1       & 21.0       & 86         & 300,581    & 25,850,000\\\\\n",
       "\\end{tabular}\n"
      ],
      "text/markdown": [
       "\n",
       "| cabang | agen | jumlah_hari | total_loan_cair | avg_amount | total_amount |\n",
       "|---|---|---|---|---|---|\n",
       "| AE         | AE-3       | 4.0        | 16         | 310,625    | 4,970,000  |\n",
       "| AE         | AE-2       | 18.0       | 73         | 320,274    | 23,380,000 |\n",
       "| AE         | AE-1       | 21.0       | 86         | 300,581    | 25,850,000 |\n",
       "\n"
      ],
      "text/plain": [
       "  cabang agen jumlah_hari total_loan_cair avg_amount total_amount\n",
       "1 AE     AE-3 4.0         16              310,625    4,970,000   \n",
       "2 AE     AE-2 18.0        73              320,274    23,380,000  \n",
       "3 AE     AE-1 21.0        86              300,581    25,850,000  "
      ]
     },
     "metadata": {},
     "output_type": "display_data"
    }
   ],
   "source": [
    "#Karena nilai yang berbeda jauh hanya total_loan_cair saja,\n",
    "##kita perlu memantau perbadingannya per agent\n",
    "df_loan_mei_flag %>%\n",
    "filter(umur == 3, flag == 'rendah') %>%\n",
    "inner_join(df_loan, by = 'cabang') %>%\n",
    "filter(tanggal_cair >= '2020-05-01', tanggal_cair <= '2020-05-31') %>%\n",
    "group_by(cabang, agen) %>%\n",
    "summarise(jumlah_hari = n_distinct(tanggal_cair),\n",
    "         total_loan_cair = n_distinct(loan_id),\n",
    "         avg_amount = mean(amount),\n",
    "         total_amount = sum(amount)) %>%\n",
    "arrange(total_amount) %>%\n",
    "mutate_if(is.numeric, funs(comma))"
   ]
  },
  {
   "cell_type": "code",
   "execution_count": 13,
   "metadata": {},
   "outputs": [
    {
     "name": "stderr",
     "output_type": "stream",
     "text": [
      "`summarise()` has grouped output by 'cabang'. You can override using the `.groups` argument.\n",
      "`mutate_if()` ignored the following grouping variables:\n",
      "Column `cabang`\n"
     ]
    },
    {
     "data": {
      "text/html": [
       "<table>\n",
       "<thead><tr><th scope=col>cabang</th><th scope=col>agen</th><th scope=col>jumlah_hari</th><th scope=col>total_loan_cair</th><th scope=col>avg_amount</th><th scope=col>total_amount</th></tr></thead>\n",
       "<tbody>\n",
       "\t<tr><td>AH        </td><td>AH-3      </td><td>19.0      </td><td>74.0      </td><td>303,649   </td><td>22,470,000</td></tr>\n",
       "\t<tr><td>AH        </td><td>AH-1      </td><td>21.0      </td><td>81.0      </td><td>301,358   </td><td>24,410,000</td></tr>\n",
       "\t<tr><td>AH        </td><td>AH-2      </td><td>21.0      </td><td>86.0      </td><td>313,488   </td><td>26,960,000</td></tr>\n",
       "</tbody>\n",
       "</table>\n"
      ],
      "text/latex": [
       "\\begin{tabular}{r|llllll}\n",
       " cabang & agen & jumlah\\_hari & total\\_loan\\_cair & avg\\_amount & total\\_amount\\\\\n",
       "\\hline\n",
       "\t AH         & AH-3       & 19.0       & 74.0       & 303,649    & 22,470,000\\\\\n",
       "\t AH         & AH-1       & 21.0       & 81.0       & 301,358    & 24,410,000\\\\\n",
       "\t AH         & AH-2       & 21.0       & 86.0       & 313,488    & 26,960,000\\\\\n",
       "\\end{tabular}\n"
      ],
      "text/markdown": [
       "\n",
       "| cabang | agen | jumlah_hari | total_loan_cair | avg_amount | total_amount |\n",
       "|---|---|---|---|---|---|\n",
       "| AH         | AH-3       | 19.0       | 74.0       | 303,649    | 22,470,000 |\n",
       "| AH         | AH-1       | 21.0       | 81.0       | 301,358    | 24,410,000 |\n",
       "| AH         | AH-2       | 21.0       | 86.0       | 313,488    | 26,960,000 |\n",
       "\n"
      ],
      "text/plain": [
       "  cabang agen jumlah_hari total_loan_cair avg_amount total_amount\n",
       "1 AH     AH-3 19.0        74.0            303,649    22,470,000  \n",
       "2 AH     AH-1 21.0        81.0            301,358    24,410,000  \n",
       "3 AH     AH-2 21.0        86.0            313,488    26,960,000  "
      ]
     },
     "metadata": {},
     "output_type": "display_data"
    }
   ],
   "source": [
    "#Sebagai evaluasinya, kita akan melihat perbandingan performa agen untuk cabang yang performanya paling baik\n",
    "##yaitu yang berumur 3 bulan\n",
    "df_loan %>% filter(cabang == 'AH') %>% filter(tanggal_cair >= '2020-05-01', tanggal_cair <= '2020-05-31') %>%\n",
    "group_by(cabang, agen)%>%summarise(jumlah_hari = n_distinct(tanggal_cair),\n",
    "                                  total_loan_cair = n_distinct(loan_id),\n",
    "                                  avg_amount = mean(amount),\n",
    "                                  total_amount = sum(amount))%>%\n",
    "arrange(total_amount) %>%\n",
    "mutate_if(is.numeric, funs(comma))"
   ]
  }
 ],
 "metadata": {
  "kernelspec": {
   "display_name": "R",
   "language": "R",
   "name": "ir"
  },
  "language_info": {
   "codemirror_mode": "r",
   "file_extension": ".r",
   "mimetype": "text/x-r-source",
   "name": "R",
   "pygments_lexer": "r",
   "version": "3.6.1"
  }
 },
 "nbformat": 4,
 "nbformat_minor": 2
}
